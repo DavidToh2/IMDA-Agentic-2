{
 "cells": [
  {
   "cell_type": "code",
   "execution_count": 3,
   "metadata": {},
   "outputs": [],
   "source": [
    "import easyocr\n"
   ]
  },
  {
   "cell_type": "code",
   "execution_count": 4,
   "metadata": {},
   "outputs": [
    {
     "name": "stderr",
     "output_type": "stream",
     "text": [
      "/Users/shaoyang/Desktop/IMDA-Agentic-2/venv/lib/python3.12/site-packages/easyocr/detection.py:85: FutureWarning: You are using `torch.load` with `weights_only=False` (the current default value), which uses the default pickle module implicitly. It is possible to construct malicious pickle data which will execute arbitrary code during unpickling (See https://github.com/pytorch/pytorch/blob/main/SECURITY.md#untrusted-models for more details). In a future release, the default value for `weights_only` will be flipped to `True`. This limits the functions that could be executed during unpickling. Arbitrary objects will no longer be allowed to be loaded via this mode unless they are explicitly allowlisted by the user via `torch.serialization.add_safe_globals`. We recommend you start setting `weights_only=True` for any use case where you don't have full control of the loaded file. Please open an issue on GitHub for any issues related to this experimental feature.\n",
      "  net.load_state_dict(copyStateDict(torch.load(trained_model, map_location=device)))\n",
      "/Users/shaoyang/Desktop/IMDA-Agentic-2/venv/lib/python3.12/site-packages/easyocr/recognition.py:182: FutureWarning: You are using `torch.load` with `weights_only=False` (the current default value), which uses the default pickle module implicitly. It is possible to construct malicious pickle data which will execute arbitrary code during unpickling (See https://github.com/pytorch/pytorch/blob/main/SECURITY.md#untrusted-models for more details). In a future release, the default value for `weights_only` will be flipped to `True`. This limits the functions that could be executed during unpickling. Arbitrary objects will no longer be allowed to be loaded via this mode unless they are explicitly allowlisted by the user via `torch.serialization.add_safe_globals`. We recommend you start setting `weights_only=True` for any use case where you don't have full control of the loaded file. Please open an issue on GitHub for any issues related to this experimental feature.\n",
      "  model.load_state_dict(torch.load(model_path, map_location=device))\n"
     ]
    },
    {
     "data": {
      "text/plain": [
       "[([[1546, 496], [1909, 496], [1909, 680], [1546, 680]],\n",
       "  'iMac',\n",
       "  0.998019278049469),\n",
       " ([[783, 18216], [1033, 18216], [1033, 18338], [783, 18338]],\n",
       "  'dnPCIGMDA',\n",
       "  0.005636702031533559),\n",
       " ([[735, 18398], [1030, 18398], [1030, 18489], [735, 18489]],\n",
       "  'ATI Rage SDRKMwih 8 ',\n",
       "  0.2719746398601168),\n",
       " ([[1090, 18369], [1392, 18369], [1392, 18492], [1090, 18492]],\n",
       "  '~ime ~grnsm',\n",
       "  0.0068435788817577),\n",
       " ([[1756, 19137], [2006, 19137], [2006, 19260], [1756, 19260]],\n",
       "  'Mrooe%daz4a',\n",
       "  0.01690677345066953),\n",
       " ([[1244, 19265], [1520, 19265], [1520, 19388], [1244, 19388]],\n",
       "  'X174701G1,.034,]',\n",
       "  0.006520498589981108),\n",
       " ([[1068, 19754], [1261, 19754], [1261, 19845], [1068, 19845]],\n",
       "  '228 Rezoveco',\n",
       "  0.2416015939865367),\n",
       " ([[962, 19828], [2006, 19828], [2006, 19951], [962, 19951]],\n",
       "  'Achwed Cton ig Oignacon Jarley (2, 223 Felwvad Dersnfe/ 6, 2',\n",
       "  0.00401808995267409),\n",
       " ([[991, 20190], [1261, 20190], [1261, 20280], [991, 20280]],\n",
       "  'n Ngemberlez?202',\n",
       "  0.13377222101645767),\n",
       " ([[1324, 20190], [1798, 20190], [1798, 20280], [1324, 20280]],\n",
       "  'trievec {dverbec2 .,2022 Franciscc',\n",
       "  0.12784386322952868),\n",
       " ([[1170, 20625], [1696, 20625], [1696, 20716], [1170, 20716]],\n",
       "  '82 Uzoxploedieieorvovarahelucen2o2pl',\n",
       "  0.09656173290499447),\n",
       " ([[1013, 21287], [1469, 21287], [1469, 21410], [1013, 21410]],\n",
       "  '{@2Reigvad Dacenber G20(8&',\n",
       "  0.013398756705515116),\n",
       " ([[965, 21700], [1696, 21700], [1696, 21791], [965, 21791]],\n",
       "  \"AOguovembet 22 '2022yRetdeved Novengber C0m202i29\",\n",
       "  0.06925028415470887),\n",
       " ([[1065, 21825], [1801, 21825], [1801, 21947], [1065, 21947]],\n",
       "  \"Sauaiedo be ac McsonsLalel % Temphone: 'Zhe ^\",\n",
       "  0.0053878898431244104),\n",
       " ([[962, 22363], [1469, 22363], [1469, 22485], [962, 22485]],\n",
       "  '\"3foroneg Noomber 33,<ozMac',\n",
       "  0.010421540768852872),\n",
       " ([[942, 22572], [1233, 22572], [1233, 22634], [942, 22634]],\n",
       "  '(September 28,1998):',\n",
       "  0.7628093981286923),\n",
       " ([[1259, 22941], [1760, 22941], [1760, 23186], [1259, 23186]],\n",
       "  'E==',\n",
       "  0.38774939456279023),\n",
       " ([[1528, 23261], [1850, 23261], [1850, 23352], [1528, 23352]],\n",
       "  \"Bc Appievs RecoVeoy' 132\",\n",
       "  0.0992316419557828),\n",
       " ([[1119, 24388], [1824, 24388], [1824, 24479], [1119, 24479]],\n",
       "  'Doz Gorihe ariginar on November2e; 2022. Reireve',\n",
       "  0.09514226788819165),\n",
       " ([[1119, 25207], [2003, 25207], [2003, 25298], [1119, 25298]],\n",
       "  'up (6 V998 IMac deoktop compufer ; (aracE e5 evxd 5exnhin)',\n",
       "  0.0265811503339208),\n",
       " ([[1551, 25332], [1878, 25332], [1878, 25454], [1551, 25454]],\n",
       "  '\"onved 2 fon te orgin',\n",
       "  0.045908076581013646),\n",
       " ([[1449, 25818], [1981, 25818], [1981, 25941], [1449, 25941]],\n",
       "  'StegwoBgen Eoech cedec Desgod',\n",
       "  0.02273934157090821),\n",
       " ([[1193, 26586], [1981, 26586], [1981, 26709], [1193, 26709]],\n",
       "  \"'nsdoureehafedetonadeOgna Gohon 2h,8021. Ferig\",\n",
       "  0.003957877545664822),\n",
       " ([[1034, 26735], [2037, 26735], [2037, 26918], [1034, 26918]],\n",
       "  'EZZZZZ',\n",
       "  0.11464142150224589),\n",
       " ([[1324, 28714], [1773, 28714], [1773, 28805], [1324, 28805]],\n",
       "  'tAolBsaatest 5roducts4 Pen',\n",
       "  0.3480431722283363),\n",
       " ([[1551, 29812], [2006, 29812], [2006, 29934], [1551, 29934]],\n",
       "  '[0 \"aacttota',\n",
       "  0.03988886925969975),\n",
       " ([[1428, 30098], [1745, 30098], [1745, 30159], [1428, 30159]],\n",
       "  'ued Apple Inc: produ',\n",
       "  0.8001581192485642),\n",
       " ([[525, 30091], [1112, 30091], [1112, 30243], [525, 30243]],\n",
       "  '[SCG_AAG',\n",
       "  0.0001908057256683907),\n",
       " ([[69, 30378], [339, 30378], [339, 30469], [69, 30469]],\n",
       "  'Text is avalabe under ',\n",
       "  0.2615585796518858),\n",
       " ([[979.0, 19644.0],\n",
       "   [1259.9265096342103, 19582.9564648639],\n",
       "   [1277.0, 19692.0],\n",
       "   [996.0734903657898, 19753.0435351361]],\n",
       "  \"'ovembeg8o,202219 =\",\n",
       "  0.062787242930636)]"
      ]
     },
     "execution_count": 4,
     "metadata": {},
     "output_type": "execute_result"
    }
   ],
   "source": [
    "reader = easyocr.Reader(['en'])\n",
    "output = reader.readtext('test.png')\n",
    "output"
   ]
  },
  {
   "cell_type": "code",
   "execution_count": 5,
   "metadata": {},
   "outputs": [
    {
     "name": "stdout",
     "output_type": "stream",
     "text": [
      "iMac\n",
      "dnPCIGMDA\n",
      "ATI Rage SDRKMwih 8 \n",
      "~ime ~grnsm\n",
      "Mrooe%daz4a\n",
      "X174701G1,.034,]\n",
      "228 Rezoveco\n",
      "Achwed Cton ig Oignacon Jarley (2, 223 Felwvad Dersnfe/ 6, 2\n",
      "n Ngemberlez?202\n",
      "trievec {dverbec2 .,2022 Franciscc\n",
      "82 Uzoxploedieieorvovarahelucen2o2pl\n",
      "{@2Reigvad Dacenber G20(8&\n",
      "AOguovembet 22 '2022yRetdeved Novengber C0m202i29\n",
      "Sauaiedo be ac McsonsLalel % Temphone: 'Zhe ^\n",
      "\"3foroneg Noomber 33,<ozMac\n",
      "(September 28,1998):\n",
      "E==\n",
      "Bc Appievs RecoVeoy' 132\n",
      "Doz Gorihe ariginar on November2e; 2022. Reireve\n",
      "up (6 V998 IMac deoktop compufer ; (aracE e5 evxd 5exnhin)\n",
      "\"onved 2 fon te orgin\n",
      "StegwoBgen Eoech cedec Desgod\n",
      "'nsdoureehafedetonadeOgna Gohon 2h,8021. Ferig\n",
      "EZZZZZ\n",
      "tAolBsaatest 5roducts4 Pen\n",
      "[0 \"aacttota\n",
      "ued Apple Inc: produ\n",
      "[SCG_AAG\n",
      "Text is avalabe under \n",
      "'ovembeg8o,202219 =\n",
      "\n"
     ]
    }
   ],
   "source": [
    "res = \"\"\n",
    "for coords,txt, prob in output:\n",
    "    res += txt + \"\\n\"\n",
    "\n",
    "print(res)"
   ]
  }
 ],
 "metadata": {
  "kernelspec": {
   "display_name": "Agent",
   "language": "python",
   "name": "python3"
  },
  "language_info": {
   "codemirror_mode": {
    "name": "ipython",
    "version": 3
   },
   "file_extension": ".py",
   "mimetype": "text/x-python",
   "name": "python",
   "nbconvert_exporter": "python",
   "pygments_lexer": "ipython3",
   "version": "3.12.5"
  }
 },
 "nbformat": 4,
 "nbformat_minor": 2
}
