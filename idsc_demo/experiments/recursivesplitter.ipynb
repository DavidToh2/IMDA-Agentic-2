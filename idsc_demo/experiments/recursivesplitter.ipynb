{
 "cells": [
  {
   "cell_type": "code",
   "execution_count": 4,
   "metadata": {},
   "outputs": [
    {
     "data": {
      "text/plain": [
       "['Jesus[d] (c.\\u20096 to 4 BC – AD 30 or 33), also referred to as Jesus Christ,[e] Jesus of Nazareth, and many other names and titles, was a first-century Jewish preacher and religious leader.[10] He is the central figure of Christianity, the world\\'s largest religion. Most Christians believe Jesus to be the incarnation of God the Son and the awaited messiah, or Christ, a descendant from the House of David that is prophesied in the Old Testament.\\n\\nVirtually all modern scholars of antiquity agree that Jesus existed historically.[f] Accounts of Jesus\\'s life are contained in the Gospels, especially the four canonical Gospels in the New Testament. Academic research has yielded various views on the historical reliability of the Gospels and how closely they reflect the historical Jesus.[18][g][21][22]\\n\\nJesus was circumcised at eight days old, was baptized by John the Baptist as a young adult, and after 40 days and nights of fasting in the wilderness, began his own ministry. He was an itinerant teacher, and was often referred to as \"rabbi\".[23] Jesus often debated with fellow Jews on how to best follow God, engaged in healings, taught in parables, and gathered followers, among whom twelve were appointed as his chosen apostles. He was arrested in Jerusalem and tried by the Jewish authorities,[24] turned over to the Roman government, and crucified on the order of Pontius Pilate, the Roman prefect of Judaea. After his death, his followers became convinced that he rose from the dead, and following his ascension, the community they formed eventually became the early Christian Church that expanded as a worldwide movement.[25] It is hypothesized that accounts of his teachings and life were initially conserved by oral transmission, which was the source of the written Gospels.[26]\\n\\nChristian theology includes the beliefs that Jesus was conceived by the Holy Spirit, was born of a virgin named Mary, performed miracles, founded the Christian Church, died by crucifixion as a sacrifice to achieve atonement for sin, rose from the dead, and ascended into Heaven, from where he will return. Commonly, Christians believe Jesus enables people to be reconciled to God. The Nicene Creed asserts that Jesus will judge the living and the dead, either before or after their bodily resurrection, an event tied to the Second Coming of Jesus in Christian eschatology. The great majority of Christians worship Jesus as the incarnation of God the Son, the second of three prosopons of the Trinity.[h] The birth of Jesus is celebrated annually, generally on 25 December,[i] as Christmas. His crucifixion is honoured on Good Friday and his resurrection on Easter Sunday. The world\\'s most widely used calendar era—in which the current year is AD 2024 (or 2024 CE)—is based on the approximate birthdate of Jesus.',\n",
       " 'Muhammad[a] (/moʊˈhɑːməd/; Arabic: مُحَمَّد, romanized: Muḥammad [mʊˈħæm.mæd] \"praiseworthy\"; c. 570 – 8 June 632 CE)[b] was an Arab religious, social, and political leader and the founder of Islam.[c] According to Islamic doctrine, he was a prophet divinely inspired to preach and confirm the monotheistic teachings of Adam, Abraham, Moses, Jesus, and other prophets.[2][3][4] He is believed to be the Seal of the Prophets within Islam, with the Quran as well as his teachings and practices forming the basis for Islamic religious belief.\\n\\nMuhammad was born in approximately 570 CE in Mecca.[1] He was the son of Abdullah ibn Abd al-Muttalib and Amina bint Wahb. His father, Abdullah, the son of Quraysh tribal leader Abd al-Muttalib ibn Hashim, died around the time Muhammad was born. His mother Amina died when he was six, leaving Muhammad an orphan.[5][6] He was raised under the care of his grandfather, Abd al-Muttalib, and paternal uncle, Abu Talib.[7] In later years, he would periodically seclude himself in a mountain cave named Hira for several nights of prayer. When he was 40, circa 610 CE, Muhammad reported being visited by Gabriel in the cave[1] and receiving his first revelation from God. In 613,[8] Muhammad started preaching these revelations publicly,[9] proclaiming that \"God is One\", that complete \"submission\" (islām) to God (Allah) is the right way of life (dīn),[10] and that he was a prophet and messenger of God, similar to the other prophets in Islam.[3][11][12]\\n\\nMuhammad\\'s followers were initially few in number, and experienced hostility from Meccan polytheists for 13 years. To escape ongoing persecution, he sent some of his followers to Abyssinia in 615, before he and his followers migrated from Mecca to Medina (then known as Yathrib) later in 622. This event, the Hijrah, marks the beginning of the Islamic calendar, also known as the Hijri calendar. In Medina, Muhammad united the tribes under the Constitution of Medina. In December 629, after eight years of intermittent fighting with Meccan tribes, Muhammad gathered an army of 10,000 Muslim converts and marched on the city of Mecca. The conquest went largely uncontested, and Muhammad seized the city with minimal casualties. In 632, a few months after returning from the Farewell Pilgrimage, he fell ill and died. By the time of his death, most of the Arabian Peninsula had converted to Islam.[13][14]\\n\\nThe revelations (ayat) that Muhammad reported receiving until his death form the verses of the Quran, regarded by Muslims as the verbatim \"Word of God\" on which the religion is based. Besides the Quran, Muhammad\\'s teachings and practices (sunnah), found in transmitted reports (hadith) and in his biography (sīrah), are also upheld and used as sources of Islamic law. ']"
      ]
     },
     "execution_count": 4,
     "metadata": {},
     "output_type": "execute_result"
    }
   ],
   "source": [
    "from langchain_text_splitters import RecursiveCharacterTextSplitter\n",
    "import os\n",
    "path = \"./files\"\n",
    "\n",
    "files_content = []\n",
    "\n",
    "for filename in filter(lambda p: p.endswith(\"txt\"), os.listdir(path)):\n",
    "    filepath = os.path.join(path, filename)\n",
    "    with open(filepath, mode='r') as f:\n",
    "        files_content += [f.read()]\n",
    "\n",
    "files_content"
   ]
  },
  {
   "cell_type": "code",
   "execution_count": 6,
   "metadata": {},
   "outputs": [
    {
     "data": {
      "text/plain": [
       "[Document(page_content=\"Jesus[d] (c.\\u20096 to 4 BC – AD 30 or 33), also referred to as Jesus Christ,[e] Jesus of Nazareth, and many other names and titles, was a first-century Jewish preacher and religious leader.[10] He is the central figure of Christianity, the world's largest religion. Most Christians believe Jesus to be the incarnation of God the Son and the awaited messiah, or Christ, a descendant from the House of David that is prophesied in the Old Testament.\"),\n",
       " Document(page_content=\"Virtually all modern scholars of antiquity agree that Jesus existed historically.[f] Accounts of Jesus's life are contained in the Gospels, especially the four canonical Gospels in the New Testament. Academic research has yielded various views on the historical reliability of the Gospels and how closely they reflect the historical Jesus.[18][g][21][22]\"),\n",
       " Document(page_content='Jesus was circumcised at eight days old, was baptized by John the Baptist as a young adult, and after 40 days and nights of fasting in the wilderness, began his own ministry. He was an itinerant teacher, and was often referred to as \"rabbi\".[23] Jesus often debated with fellow Jews on how to best follow God, engaged in healings, taught in parables, and gathered followers, among whom twelve were appointed as his chosen apostles. He was arrested in Jerusalem and tried by the Jewish'),\n",
       " Document(page_content='tried by the Jewish authorities,[24] turned over to the Roman government, and crucified on the order of Pontius Pilate, the Roman prefect of Judaea. After his death, his followers became convinced that he rose from the dead, and following his ascension, the community they formed eventually became the early Christian Church that expanded as a worldwide movement.[25] It is hypothesized that accounts of his teachings and life were initially conserved by oral transmission, which was the source of'),\n",
       " Document(page_content='was the source of the written Gospels.[26]'),\n",
       " Document(page_content='Christian theology includes the beliefs that Jesus was conceived by the Holy Spirit, was born of a virgin named Mary, performed miracles, founded the Christian Church, died by crucifixion as a sacrifice to achieve atonement for sin, rose from the dead, and ascended into Heaven, from where he will return. Commonly, Christians believe Jesus enables people to be reconciled to God. The Nicene Creed asserts that Jesus will judge the living and the dead, either before or after their bodily'),\n",
       " Document(page_content=\"after their bodily resurrection, an event tied to the Second Coming of Jesus in Christian eschatology. The great majority of Christians worship Jesus as the incarnation of God the Son, the second of three prosopons of the Trinity.[h] The birth of Jesus is celebrated annually, generally on 25 December,[i] as Christmas. His crucifixion is honoured on Good Friday and his resurrection on Easter Sunday. The world's most widely used calendar era—in which the current year is AD 2024 (or 2024 CE)—is\"),\n",
       " Document(page_content='(or 2024 CE)—is based on the approximate birthdate of Jesus.'),\n",
       " Document(page_content='Muhammad[a] (/moʊˈhɑːməd/; Arabic: مُحَمَّد, romanized: Muḥammad [mʊˈħæm.mæd] \"praiseworthy\"; c. 570 – 8 June 632 CE)[b] was an Arab religious, social, and political leader and the founder of Islam.[c] According to Islamic doctrine, he was a prophet divinely inspired to preach and confirm the monotheistic teachings of Adam, Abraham, Moses, Jesus, and other prophets.[2][3][4] He is believed to be the Seal of the Prophets within Islam, with the Quran as well as his teachings and practices forming'),\n",
       " Document(page_content='practices forming the basis for Islamic religious belief.'),\n",
       " Document(page_content='Muhammad was born in approximately 570 CE in Mecca.[1] He was the son of Abdullah ibn Abd al-Muttalib and Amina bint Wahb. His father, Abdullah, the son of Quraysh tribal leader Abd al-Muttalib ibn Hashim, died around the time Muhammad was born. His mother Amina died when he was six, leaving Muhammad an orphan.[5][6] He was raised under the care of his grandfather, Abd al-Muttalib, and paternal uncle, Abu Talib.[7] In later years, he would periodically seclude himself in a mountain cave named'),\n",
       " Document(page_content='mountain cave named Hira for several nights of prayer. When he was 40, circa 610 CE, Muhammad reported being visited by Gabriel in the cave[1] and receiving his first revelation from God. In 613,[8] Muhammad started preaching these revelations publicly,[9] proclaiming that \"God is One\", that complete \"submission\" (islām) to God (Allah) is the right way of life (dīn),[10] and that he was a prophet and messenger of God, similar to the other prophets in Islam.[3][11][12]'),\n",
       " Document(page_content=\"Muhammad's followers were initially few in number, and experienced hostility from Meccan polytheists for 13 years. To escape ongoing persecution, he sent some of his followers to Abyssinia in 615, before he and his followers migrated from Mecca to Medina (then known as Yathrib) later in 622. This event, the Hijrah, marks the beginning of the Islamic calendar, also known as the Hijri calendar. In Medina, Muhammad united the tribes under the Constitution of Medina. In December 629, after eight\"),\n",
       " Document(page_content='629, after eight years of intermittent fighting with Meccan tribes, Muhammad gathered an army of 10,000 Muslim converts and marched on the city of Mecca. The conquest went largely uncontested, and Muhammad seized the city with minimal casualties. In 632, a few months after returning from the Farewell Pilgrimage, he fell ill and died. By the time of his death, most of the Arabian Peninsula had converted to Islam.[13][14]'),\n",
       " Document(page_content='The revelations (ayat) that Muhammad reported receiving until his death form the verses of the Quran, regarded by Muslims as the verbatim \"Word of God\" on which the religion is based. Besides the Quran, Muhammad\\'s teachings and practices (sunnah), found in transmitted reports (hadith) and in his biography (sīrah), are also upheld and used as sources of Islamic law.')]"
      ]
     },
     "execution_count": 6,
     "metadata": {},
     "output_type": "execute_result"
    }
   ],
   "source": [
    "text_splitter = RecursiveCharacterTextSplitter(\n",
    "    # Set a really small chunk size, just to show.\n",
    "    chunk_size=500,\n",
    "    chunk_overlap=20,\n",
    "    length_function=len,\n",
    "    is_separator_regex=False,\n",
    ")\n",
    "\n",
    "texts = text_splitter.create_documents(files_content)\n",
    "texts"
   ]
  }
 ],
 "metadata": {
  "kernelspec": {
   "display_name": "venv",
   "language": "python",
   "name": "python3"
  },
  "language_info": {
   "codemirror_mode": {
    "name": "ipython",
    "version": 3
   },
   "file_extension": ".py",
   "mimetype": "text/x-python",
   "name": "python",
   "nbconvert_exporter": "python",
   "pygments_lexer": "ipython3",
   "version": "3.12.5"
  }
 },
 "nbformat": 4,
 "nbformat_minor": 2
}
