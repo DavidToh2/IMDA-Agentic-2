{
 "cells": [
  {
   "cell_type": "markdown",
   "metadata": {},
   "source": [
    "Run \n",
    "`chroma run --path ./idsc_demo/chroma_db`\n",
    "on command line to activate "
   ]
  },
  {
   "cell_type": "code",
   "execution_count": 1,
   "metadata": {},
   "outputs": [],
   "source": [
    "import chromadb\n",
    "client = chromadb.HttpClient(host='localhost', port=8000)\n",
    "\n",
    "from chromadb.utils import embedding_functions\n",
    "default_ef = embedding_functions.DefaultEmbeddingFunction()\n",
    "collection = client.get_collection(name=\"internal_info\", embedding_function=default_ef)"
   ]
  },
  {
   "cell_type": "code",
   "execution_count": 2,
   "metadata": {},
   "outputs": [
    {
     "data": {
      "text/plain": [
       "{'ids': [['10', '8', '12']],\n",
       " 'distances': [[1.5227737969034814, 1.5956107453615462, 1.610841704812184]],\n",
       " 'embeddings': None,\n",
       " 'metadatas': [[None, None, None]],\n",
       " 'documents': [['Strategic Alliances: Heng Hua is currently involved in a strategic partnership with a consortium of tech companies to develop AI-driven solutions for environmental monitoring in Southeast Asia.\\n    Advisory Roles: Serves as an advisor to regional government bodies on technology policy and innovation strategies.\\n\\n4. Confidential Insights:',\n",
       "   'Internal Information about Hu Heng Hua\\n1. Strategic Goals:\\n\\n    Personal Goals for Collaboration: Hu Heng Hua aims to promote technological innovation and integration within the Asia-Pacific region, focusing on cross-border tech startups and investment opportunities.\\n    Future Projects: Leading a regional initiative to enhance smart city technologies, with an emphasis on sustainable urban development and smart infrastructure.\\n\\n2. Personal Preferences:',\n",
       "   'Internal Information about Gaspard Twagirayezu\\n1. Strategic Goals:\\n\\n    Personal Goals for Collaboration: Gaspard aims to drive economic development and innovation in East Africa through technology and entrepreneurial initiatives, focusing on empowering local startups and fostering cross-border trade.\\n    Future Projects: Leading a regional project to establish a tech hub in Kigali, designed to support startups and attract international investment.\\n\\n2. Personal Preferences:']],\n",
       " 'uris': None,\n",
       " 'data': None,\n",
       " 'included': ['metadatas', 'documents', 'distances']}"
      ]
     },
     "execution_count": 2,
     "metadata": {},
     "output_type": "execute_result"
    }
   ],
   "source": [
    "collection.query(\n",
    "    query_texts=[\"lee kuan yew\"],\n",
    "    n_results=3,\n",
    ")"
   ]
  }
 ],
 "metadata": {
  "kernelspec": {
   "display_name": "Agent",
   "language": "python",
   "name": "python3"
  },
  "language_info": {
   "codemirror_mode": {
    "name": "ipython",
    "version": 3
   },
   "file_extension": ".py",
   "mimetype": "text/x-python",
   "name": "python",
   "nbconvert_exporter": "python",
   "pygments_lexer": "ipython3",
   "version": "3.12.5"
  }
 },
 "nbformat": 4,
 "nbformat_minor": 2
}
