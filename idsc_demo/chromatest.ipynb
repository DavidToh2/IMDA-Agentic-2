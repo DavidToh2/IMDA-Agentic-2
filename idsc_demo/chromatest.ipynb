{
 "cells": [
  {
   "cell_type": "markdown",
   "metadata": {},
   "source": [
    "Run \n",
    "`chroma run --path ./chroma_db`\n",
    "on command line to activate "
   ]
  },
  {
   "cell_type": "code",
   "execution_count": 12,
   "metadata": {},
   "outputs": [],
   "source": [
    "import chromadb\n",
    "client = chromadb.HttpClient(host='localhost', port=8000)\n",
    "\n",
    "from chromadb.utils import embedding_functions\n",
    "default_ef = embedding_functions.DefaultEmbeddingFunction()\n",
    "collection = client.get_collection(name=\"internal_info\", embedding_function=default_ef)"
   ]
  },
  {
   "cell_type": "code",
   "execution_count": 14,
   "metadata": {},
   "outputs": [
    {
     "data": {
      "text/plain": [
       "{'ids': [['19', '18', '16']],\n",
       " 'distances': [[1.1111264119953843, 1.2117854327142517, 1.215595459824423]],\n",
       " 'embeddings': None,\n",
       " 'metadatas': [[None, None, None]],\n",
       " 'documents': [['Confidential Research Interests: Dario is exploring a novel approach to AI safety that involves decentralized verification systems, which is still in the preliminary research phase and not publicly disclosed. Internal Feedback: Positive internal reviews highlight his innovative approach to AI safety, though there are occasional concerns about the feasibility of some proposed methods.',\n",
       "   'Strategic Alliances: Dario Amodei is currently engaged in an exclusive collaboration with a major tech company to develop a new AI ethics framework, with details of the partnership under NDA. Advisory Roles: Acts as a confidential advisor to a governmental committee on AI regulations, providing insights on policy development.\\n\\n4. Confidential Insights:',\n",
       "   'Internal Information about Dario Amodei 1. Strategic Goals:\\n\\nPersonal Goals for Collaboration: Dario Amodei has expressed interest in exploring partnerships to advance AI safety mechanisms, specifically focusing on integrating ethical AI frameworks into emerging technologies. Future Projects: He is working on a new initiative related to “AI Alignment through Multi-Agent Systems,” aimed at ensuring that complex AI systems operate in alignment with diverse human values.\\n\\n2. Personal Preferences:']],\n",
       " 'uris': None,\n",
       " 'data': None,\n",
       " 'included': ['metadatas', 'documents', 'distances']}"
      ]
     },
     "execution_count": 14,
     "metadata": {},
     "output_type": "execute_result"
    }
   ],
   "source": [
    "collection.query(\n",
    "    query_texts=[\"dario\"],\n",
    "    n_results=3,\n",
    ")"
   ]
  }
 ],
 "metadata": {
  "kernelspec": {
   "display_name": "Agent",
   "language": "python",
   "name": "python3"
  },
  "language_info": {
   "codemirror_mode": {
    "name": "ipython",
    "version": 3
   },
   "file_extension": ".py",
   "mimetype": "text/x-python",
   "name": "python",
   "nbconvert_exporter": "python",
   "pygments_lexer": "ipython3",
   "version": "3.12.4"
  }
 },
 "nbformat": 4,
 "nbformat_minor": 2
}
